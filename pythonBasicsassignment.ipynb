{
  "nbformat": 4,
  "nbformat_minor": 0,
  "metadata": {
    "colab": {
      "provenance": []
    },
    "kernelspec": {
      "name": "python3",
      "display_name": "Python 3"
    },
    "language_info": {
      "name": "python"
    }
  },
  "cells": [
    {
      "cell_type": "code",
      "execution_count": null,
      "metadata": {
        "id": "p10bSIejZY5G"
      },
      "outputs": [],
      "source": []
    },
    {
      "cell_type": "markdown",
      "source": [
        "1.What is Python, and why is it popular\n",
        "Python is an interpreted programming language which is very easy to use and highly readable as compare to other languages.\n",
        "Python is popular because it is easy to use and efficient to understand. Moreover, it has a strong base of library and versatile in nature make its useful around the it industry.\n",
        "\n",
        "2. What is an interpreter in Python\n",
        "An interpreter in python is a program that reads and executes the program line by line rather than compiling the program at a single run which helps to check the code line by line and converts the program code into machine readable language.\n",
        "\n",
        "3. What are pre-defined keywords in Python\n",
        "Pre-defined keywords can be defined as the words which are already been declared by python for some use case and which cannot be use by the user for creating any variable as it will throw error there are 35 keywords that are been declared by python.\n",
        "\n",
        "4. Can keywords be used as variable names\n",
        "No keywords cannot be use a variable name in python.\n",
        "\n",
        "5. What is mutability in Python\n",
        "mutability in Python meaning we can change or update the value eg: list value can be changed or updated.\n",
        "\n",
        "6. Why are lists mutable, but tuples are immutable\n",
        "List are planned to make a collection of data that need to be change or update so it is mutable in nature while tuple is used to maintain the data integrity that is the values should not be changed through any outside behaviour so they are immutable.\n",
        "\n",
        "\n",
        "7.What is the difference between “==” and “is” operators in Python\n",
        "“= =” Checks if the values of two objects are equal while “is” Checks if two variables refer to the same object in memory.\n",
        "\n",
        " 8. What are logical operators in Python\n",
        " Logical operators provide logic to a statement basically used in conditional statements\n",
        "Which usually returns Boolean values there are three logical operators and, or, not.\n",
        "\n",
        "9. What is type casting in Python\n",
        "type casting in Python basically means to change the data type of the variable or data structure.\n",
        "\n",
        "10. What is the difference between implicit and explicit type casting.\n",
        "Implicit typecasting means the variable are automatically assigned to the datatype of that particular variable while explicit typecasting means the user defines the type of the variable.\n",
        "\n",
        "11. What is the purpose of conditional statements in Python.\n",
        "conditional statements in Python is used to get the desired result after the statements satisfies the condition that is defined by the user. It includes if, elif, else statements.\n",
        "\n",
        "12.How does the elif statement work\n",
        "In the conditional statement if the “If” statements do not satisfy the condition and if we want to add another conditional rather the else statement we can use the “elif” statement in python code we can have multiple elif statement before else statement.\n",
        "\n",
        "13.What is the difference between for and while loops?\n",
        "In for loop the condition of how many time the loop will run or iterate is defined by the user or we can say we can tell it by seeing but in while loop the loop continues till the condition is not false or we can say the conditions is not satisfied then only the loops gets terminated.\n",
        "\n",
        "14. Describe a scenario where a while loop is more suitable than a for loop\n",
        "Ex if we wat to find the first even number from a list and end the loop we can use the while loop so the loop will check if the number is even or not and if the number is even the loop will terminate.\n"
      ],
      "metadata": {
        "id": "ghHqaZ1JaLCg"
      }
    },
    {
      "cell_type": "code",
      "source": [
        "# 1. Write a Python program to print \"Hello, World!y\n",
        "\n",
        "print(\"Hello, World!\")"
      ],
      "metadata": {
        "colab": {
          "base_uri": "https://localhost:8080/"
        },
        "id": "sG29GL_QaQGW",
        "outputId": "3b9a2b02-810a-4150-abbb-5f0ec599cf6f"
      },
      "execution_count": null,
      "outputs": [
        {
          "output_type": "stream",
          "name": "stdout",
          "text": [
            "Hello, World!\n"
          ]
        }
      ]
    },
    {
      "cell_type": "code",
      "source": [
        "# 2 Write a Python program that displays your name and age\n",
        "\n",
        "Name=input(\"Enter your name: \")\n",
        "age=input(\"Enter your age: \")\n",
        "print(\"My Name is \" + Name + \" , age:\"+ age)"
      ],
      "metadata": {
        "colab": {
          "base_uri": "https://localhost:8080/"
        },
        "id": "SNF7vvqPbK_q",
        "outputId": "7202ebf6-2890-42e8-c935-2a70f5386982"
      },
      "execution_count": null,
      "outputs": [
        {
          "output_type": "stream",
          "name": "stdout",
          "text": [
            "Enter your name: subho\n",
            "Enter your age: 23\n",
            "My Name is subho , age:23\n"
          ]
        }
      ]
    },
    {
      "cell_type": "code",
      "source": [
        "# 3 Write code to print all the pre-defined keywords in Python using the keyword library8\n",
        "import keyword\n",
        "print(keyword.kwlist)"
      ],
      "metadata": {
        "colab": {
          "base_uri": "https://localhost:8080/"
        },
        "id": "2yKo2N7obUU4",
        "outputId": "d3d63a0a-2bdd-43c5-c351-b6313415d7c5"
      },
      "execution_count": null,
      "outputs": [
        {
          "output_type": "stream",
          "name": "stdout",
          "text": [
            "['False', 'None', 'True', 'and', 'as', 'assert', 'async', 'await', 'break', 'class', 'continue', 'def', 'del', 'elif', 'else', 'except', 'finally', 'for', 'from', 'global', 'if', 'import', 'in', 'is', 'lambda', 'nonlocal', 'not', 'or', 'pass', 'raise', 'return', 'try', 'while', 'with', 'yield']\n"
          ]
        }
      ]
    },
    {
      "cell_type": "code",
      "source": [
        "# 4 Write a program that checks if a given word is a Python keyword.\n",
        "key_val=input(\"Enter the word:\")\n",
        "import keyword\n",
        "if key_val in keyword.kwlist:\n",
        "  print(key_val+\" is in the keyword list\")\n",
        "else:\n",
        "  print(key_val+\" is not in the keyword list\")"
      ],
      "metadata": {
        "colab": {
          "base_uri": "https://localhost:8080/"
        },
        "id": "GS-xUJwubgWV",
        "outputId": "372ea258-8560-4542-a5a5-fd06d54930e6"
      },
      "execution_count": null,
      "outputs": [
        {
          "output_type": "stream",
          "name": "stdout",
          "text": [
            "Enter the word:def\n",
            "def is in the keyword list\n"
          ]
        }
      ]
    },
    {
      "cell_type": "code",
      "source": [
        "# 5 Create a list and tuple in Python, and demonstrate how attempting to change an element works differently for each.\n",
        "lst1=[1,2,3,4]\n",
        "lst1[1]=5\n",
        "print(lst1)\n",
        "\n",
        "tuple1=(1,2,3)\n",
        "tuple1[1]=4\n",
        "print(tuple1)"
      ],
      "metadata": {
        "colab": {
          "base_uri": "https://localhost:8080/",
          "height": 211
        },
        "id": "DgPjHtFPbpGQ",
        "outputId": "04923998-aeea-4fdb-cb7c-cb4f4681a812"
      },
      "execution_count": null,
      "outputs": [
        {
          "output_type": "stream",
          "name": "stdout",
          "text": [
            "[1, 5, 3, 4]\n"
          ]
        },
        {
          "output_type": "error",
          "ename": "TypeError",
          "evalue": "'tuple' object does not support item assignment",
          "traceback": [
            "\u001b[0;31m---------------------------------------------------------------------------\u001b[0m",
            "\u001b[0;31mTypeError\u001b[0m                                 Traceback (most recent call last)",
            "\u001b[0;32m<ipython-input-6-6e265a1b02f9>\u001b[0m in \u001b[0;36m<cell line: 0>\u001b[0;34m()\u001b[0m\n\u001b[1;32m      5\u001b[0m \u001b[0;34m\u001b[0m\u001b[0m\n\u001b[1;32m      6\u001b[0m \u001b[0mtuple1\u001b[0m\u001b[0;34m=\u001b[0m\u001b[0;34m(\u001b[0m\u001b[0;36m1\u001b[0m\u001b[0;34m,\u001b[0m\u001b[0;36m2\u001b[0m\u001b[0;34m,\u001b[0m\u001b[0;36m3\u001b[0m\u001b[0;34m)\u001b[0m\u001b[0;34m\u001b[0m\u001b[0;34m\u001b[0m\u001b[0m\n\u001b[0;32m----> 7\u001b[0;31m \u001b[0mtuple1\u001b[0m\u001b[0;34m[\u001b[0m\u001b[0;36m1\u001b[0m\u001b[0;34m]\u001b[0m\u001b[0;34m=\u001b[0m\u001b[0;36m4\u001b[0m\u001b[0;34m\u001b[0m\u001b[0;34m\u001b[0m\u001b[0m\n\u001b[0m\u001b[1;32m      8\u001b[0m \u001b[0mprint\u001b[0m\u001b[0;34m(\u001b[0m\u001b[0mtuple1\u001b[0m\u001b[0;34m)\u001b[0m\u001b[0;34m\u001b[0m\u001b[0;34m\u001b[0m\u001b[0m\n",
            "\u001b[0;31mTypeError\u001b[0m: 'tuple' object does not support item assignment"
          ]
        }
      ]
    },
    {
      "cell_type": "code",
      "source": [
        "# 7 Write a program that performs basic arithmetic operations on two user-input numbers.\n",
        "\n",
        "var1=int(input(\"Enter the numb1: \"))\n",
        "var2=int(input(\"Enter the numb2: \"))\n",
        "print(var1*var2)\n",
        "print(var1+var2)\n",
        "print(var1**var2)\n",
        "print(var1/var2)\n",
        "print(var1-var2)\n",
        "print(var1%var2)"
      ],
      "metadata": {
        "colab": {
          "base_uri": "https://localhost:8080/"
        },
        "id": "UnI5C5RGb3lQ",
        "outputId": "95ad0e57-abc3-4d50-d174-62afae11660a"
      },
      "execution_count": null,
      "outputs": [
        {
          "output_type": "stream",
          "name": "stdout",
          "text": [
            "Enter the numb1: 0\n",
            "Enter the numb2: 1\n",
            "0\n",
            "1\n",
            "0\n",
            "0.0\n",
            "-1\n",
            "0\n"
          ]
        }
      ]
    },
    {
      "cell_type": "code",
      "source": [
        "# 8 Write a program to demonstrate the use of logical operators.\n",
        "''' var1=int(input(\"Enter the numb1: \"))\n",
        "var2=int(input(\"Enter the numb2: \"))\n",
        "if var1>var2 and var2==1:\n",
        "  print(var2)\n",
        "else:\n",
        "  print(var1)'''\n",
        "\n",
        "''' var1=int(input(\"Enter the numb1: \"))\n",
        "var2=int(input(\"Enter the numb2: \"))\n",
        "if var1>var2 or var2==1:\n",
        "  print(var2)\n",
        "else:\n",
        "  print(var1) '''"
      ],
      "metadata": {
        "colab": {
          "base_uri": "https://localhost:8080/",
          "height": 87
        },
        "id": "WBt20v-ZcDQ3",
        "outputId": "f623dfd6-6d60-4e11-ce6e-7de3b790fcce"
      },
      "execution_count": null,
      "outputs": [
        {
          "output_type": "stream",
          "name": "stdout",
          "text": [
            "Enter the numb1: 3\n",
            "Enter the numb2: 1\n",
            "1\n"
          ]
        },
        {
          "output_type": "execute_result",
          "data": {
            "text/plain": [
              "' var1=int(input(\"Enter the numb1: \"))\\nvar2=int(input(\"Enter the numb2: \"))\\nif var1>var2 or var2==1:\\n  print(var2)\\nelse:\\n  print(var1) '"
            ],
            "application/vnd.google.colaboratory.intrinsic+json": {
              "type": "string"
            }
          },
          "metadata": {},
          "execution_count": 9
        }
      ]
    },
    {
      "cell_type": "code",
      "source": [
        "# 9 Write a Python program to convert user input from string to integer, float, and boolean types.\n",
        "var1=input(\"Enter the numb1: \")\n",
        "var2=input(\"Enter the numb2: \")\n",
        "int1=int(var1)\n",
        "int2=int(var2)\n",
        "print(int1)\n",
        "print(int2)\n",
        "float1=float(var1)\n",
        "float2=float(var2)\n",
        "print(float1)\n",
        "print(float2)\n",
        "bool1=bool(int1)\n",
        "bool2=bool(int2)\n",
        "print(bool1)\n",
        "print(bool2)"
      ],
      "metadata": {
        "colab": {
          "base_uri": "https://localhost:8080/"
        },
        "id": "fbem-rtScTex",
        "outputId": "154d9493-6dc7-44e3-cc83-98346de3f272"
      },
      "execution_count": null,
      "outputs": [
        {
          "output_type": "stream",
          "name": "stdout",
          "text": [
            "Enter the numb1: 0\n",
            "Enter the numb2: 1\n",
            "0\n",
            "1\n",
            "0.0\n",
            "1.0\n",
            "False\n",
            "True\n"
          ]
        }
      ]
    },
    {
      "cell_type": "code",
      "source": [
        "# 10 Write code to demonstrate type casting with list elements.\n",
        "tuple1=(1,2,3,4)\n",
        "#type(tuple1)\n",
        "tuple1=list(tuple1)\n",
        "type(tuple1)"
      ],
      "metadata": {
        "colab": {
          "base_uri": "https://localhost:8080/"
        },
        "id": "S7_lwS1LdEl7",
        "outputId": "3ecf801e-407f-48ca-87b4-079351cb7edd"
      },
      "execution_count": null,
      "outputs": [
        {
          "output_type": "execute_result",
          "data": {
            "text/plain": [
              "list"
            ]
          },
          "metadata": {},
          "execution_count": 17
        }
      ]
    },
    {
      "cell_type": "code",
      "source": [
        "# 11 Write a program that checks if a number is positive, negative, or zero.\n",
        "int_var=int(input(\"enter the number :\"))\n",
        "if int_var>0:\n",
        "  print(str(int_var) + \" is positive\")\n",
        "elif int_var<0:\n",
        "  print(str(int_var) + \" is negative\")\n",
        "else:\n",
        "  print(str(int_var) + \" zero\")\n",
        "\n"
      ],
      "metadata": {
        "colab": {
          "base_uri": "https://localhost:8080/"
        },
        "id": "a_z2PWhBegIm",
        "outputId": "9fded48c-a6a5-4378-9232-477f2417193e"
      },
      "execution_count": null,
      "outputs": [
        {
          "output_type": "stream",
          "name": "stdout",
          "text": [
            "enter the number :-1\n",
            "-1 is negative\n"
          ]
        }
      ]
    },
    {
      "cell_type": "code",
      "source": [
        "# 12  Write a for loop to print numbers from 1 to 10.\n",
        "for i in range(1,11,1):\n",
        "  print(i,end=\" \")"
      ],
      "metadata": {
        "colab": {
          "base_uri": "https://localhost:8080/"
        },
        "id": "4kIjSUF4gNkw",
        "outputId": "d8bd6f7d-4bf7-436e-9898-75adf5f6945f"
      },
      "execution_count": null,
      "outputs": [
        {
          "output_type": "stream",
          "name": "stdout",
          "text": [
            "1 2 3 4 5 6 7 8 9 10 "
          ]
        }
      ]
    },
    {
      "cell_type": "code",
      "source": [
        "# 13  Write a Python program to find the sum of all even numbers between 1 and 50\n",
        "sum_var=0\n",
        "for i in range(1,51,1):\n",
        "  if  i%2==0:\n",
        "    sum_var=i+sum_var\n",
        "print(sum_var)"
      ],
      "metadata": {
        "colab": {
          "base_uri": "https://localhost:8080/"
        },
        "id": "x6xHkwophK-b",
        "outputId": "56472551-0305-44e7-d26d-c077ace40a1c"
      },
      "execution_count": null,
      "outputs": [
        {
          "output_type": "stream",
          "name": "stdout",
          "text": [
            "650\n"
          ]
        }
      ]
    },
    {
      "cell_type": "code",
      "source": [
        "# 14 Write a program to reverse a string using a while loop.\n",
        "str_var=\"subho\"\n",
        "incr_cnt=0\n",
        "str_cnt=-1\n",
        "while incr_cnt < len(str_var): # Loop until incr_cnt reaches the length of the string\n",
        "  print(str_var[str_cnt])\n",
        "  str_cnt=str_cnt-(1)\n",
        "  incr_cnt = incr_cnt + 1"
      ],
      "metadata": {
        "colab": {
          "base_uri": "https://localhost:8080/"
        },
        "id": "5_Yye6_MhrMH",
        "outputId": "882f0121-7b34-442e-b827-8398bcbd233a"
      },
      "execution_count": null,
      "outputs": [
        {
          "output_type": "stream",
          "name": "stdout",
          "text": [
            "o\n",
            "h\n",
            "b\n",
            "u\n",
            "s\n"
          ]
        }
      ]
    },
    {
      "cell_type": "code",
      "source": [
        "# 15 Write a Python program to calculate the factorial of a number provided by the user using a while loop.\n",
        "int_var = int(input(\"Enter the number: \"))\n",
        "fact_var = 1\n",
        "cont_var= int_var\n",
        "\n",
        "while cont_var > 1:\n",
        "    fact_var = fact_var * cont_var\n",
        "    cont_var = cont_var - 1\n",
        "\n",
        "print(\"Factorial:\", fact_var)\n",
        "\n",
        "\n",
        "\n"
      ],
      "metadata": {
        "colab": {
          "base_uri": "https://localhost:8080/"
        },
        "id": "ZiZ0t8LFjnn2",
        "outputId": "00ba5bab-cfd0-4cd8-a495-8cb4be816c60"
      },
      "execution_count": null,
      "outputs": [
        {
          "output_type": "stream",
          "name": "stdout",
          "text": [
            "Enter the number: 10\n",
            "Factorial: 3628800\n"
          ]
        }
      ]
    },
    {
      "cell_type": "code",
      "source": [
        "# 6  Write a function to demonstrate the behavior of mutable and immutable arguments.\n",
        "lst1=[1,2,3,4]\n",
        "lst1.append(5)\n",
        "lst1\n",
        "\n",
        "tuple1=(1,2,3,4)\n",
        "tuple1.append(5)\n",
        "tuple1\n",
        "\n",
        "\n",
        "# we cannot append in tuple as it is immutable"
      ],
      "metadata": {
        "colab": {
          "base_uri": "https://localhost:8080/",
          "height": 193
        },
        "id": "tFnq82vpsXKL",
        "outputId": "3c633606-cd03-4587-9c15-55c841e33f38"
      },
      "execution_count": null,
      "outputs": [
        {
          "output_type": "error",
          "ename": "AttributeError",
          "evalue": "'tuple' object has no attribute 'append'",
          "traceback": [
            "\u001b[0;31m---------------------------------------------------------------------------\u001b[0m",
            "\u001b[0;31mAttributeError\u001b[0m                            Traceback (most recent call last)",
            "\u001b[0;32m<ipython-input-49-e87f1806482b>\u001b[0m in \u001b[0;36m<cell line: 0>\u001b[0;34m()\u001b[0m\n\u001b[1;32m      5\u001b[0m \u001b[0;34m\u001b[0m\u001b[0m\n\u001b[1;32m      6\u001b[0m \u001b[0mtuple1\u001b[0m\u001b[0;34m=\u001b[0m\u001b[0;34m(\u001b[0m\u001b[0;36m1\u001b[0m\u001b[0;34m,\u001b[0m\u001b[0;36m2\u001b[0m\u001b[0;34m,\u001b[0m\u001b[0;36m3\u001b[0m\u001b[0;34m,\u001b[0m\u001b[0;36m4\u001b[0m\u001b[0;34m)\u001b[0m\u001b[0;34m\u001b[0m\u001b[0;34m\u001b[0m\u001b[0m\n\u001b[0;32m----> 7\u001b[0;31m \u001b[0mtuple1\u001b[0m\u001b[0;34m.\u001b[0m\u001b[0mappend\u001b[0m\u001b[0;34m(\u001b[0m\u001b[0;36m5\u001b[0m\u001b[0;34m)\u001b[0m\u001b[0;34m\u001b[0m\u001b[0;34m\u001b[0m\u001b[0m\n\u001b[0m\u001b[1;32m      8\u001b[0m \u001b[0mtuple1\u001b[0m\u001b[0;34m\u001b[0m\u001b[0;34m\u001b[0m\u001b[0m\n",
            "\u001b[0;31mAttributeError\u001b[0m: 'tuple' object has no attribute 'append'"
          ]
        }
      ]
    },
    {
      "cell_type": "code",
      "source": [],
      "metadata": {
        "id": "zaNzST80vGD-"
      },
      "execution_count": null,
      "outputs": []
    }
  ]
}